# The purpose of this code is to track daily changes in warehouse operations by calculating the difference in key metrics from the previous day.
# This helps in identifying trends such as increasing or decreasing inventory levels, fluctuations in shipping activity, and overall warehouse utilization.
# The .diff() function allows us to measure the change in these metrics from one day to the next, which can be useful for reports, analytics, or anomaly detection.

import pandas as pd

filepath = r"D:\Shipping_Daily_Report\DAILY_DATA_AUTO_WAREHOUSE_All.xlsx"

df = pd.read_excel(filepath, sheet_name="All")

# Convert the "Date" column to datetime format for proper time-based calculations
df["Date"] = pd.to_datetime(df["Date"])

# Calculate the daily difference for key warehouse metrics to analyze changes over time

# Difference in the number of pallets entered compared to the previous day
df["Pallet Entry Difference"] = df["Pallet Entry"].diff()

# Difference in the number of pallets exited compared to the previous day
df["Pallet EXit Difference"] = df["Pallet Exit"].diff()

# Difference in the number of pallets shipped compared to the previous day
df["Pallet Shipped Difference"] = df["Pallet Shipped"].diff()

# Difference in the number of occupied cells compared to the previous day
df["Occupied Cells Difference"] = df["Occupied Cells"].diff()

# Difference in the number of free cells available compared to the previous day
df["Free Cells Difference"] = df["Free Cells"].diff()

# Display the updated DataFrame with calculated differences to analyze warehouse trends
print(df[['Date', 'Pallet Entry', 'Pallet Entry Difference', 
          'Pallet Exit', 'Pallet EXit Difference',
          'Pallet Shipped', 'Pallet Shipped Difference', 
          'Occupied Cells', 'Occupied Cells Difference',
          'Free Cells', 'Free Cells Difference']])

